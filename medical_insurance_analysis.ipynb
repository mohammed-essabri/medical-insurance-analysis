{
 "cells": [
  {
   "cell_type": "markdown",
   "id": "4dccaf56-c9e2-4903-8f54-23de8df8679a",
   "metadata": {},
   "source": [
    "# Medical Insurance Cost Analysis\n",
    "## Mohammed Es-Sabri - Data Analytics Portfolio\n",
    "\n",
    "**Business Question:** What factors drive medical insurance costs?\n",
    "\n",
    "**Dataset:** US Health Insurance Dataset from Kaggle"
   ]
  },
  {
   "cell_type": "code",
   "execution_count": 2,
   "id": "f0156c41-c1bf-42ef-a5b7-8abeddb9d1d2",
   "metadata": {},
   "outputs": [
    {
     "name": "stdout",
     "output_type": "stream",
     "text": [
      "Libraries imported successfully!\n"
     ]
    }
   ],
   "source": [
    "import pandas as pd\n",
    "import numpy as np\n",
    "import matplotlib.pyplot as plt\n",
    "\n",
    "print(\"Libraries imported successfully!\")"
   ]
  },
  {
   "cell_type": "code",
   "execution_count": 4,
   "id": "ffb44204-121d-4d3f-93e6-455acb7f16cb",
   "metadata": {},
   "outputs": [
    {
     "name": "stdout",
     "output_type": "stream",
     "text": [
      "Dataset loaded successfully!\n",
      "Shape: (1338, 7)\n",
      "\n",
      "First 5 rows:\n",
      "   age     sex     bmi  children smoker     region      charges\n",
      "0   19  female  27.900         0    yes  southwest  16884.92400\n",
      "1   18    male  33.770         1     no  southeast   1725.55230\n",
      "2   28    male  33.000         3     no  southeast   4449.46200\n",
      "3   33    male  22.705         0     no  northwest  21984.47061\n",
      "4   32    male  28.880         0     no  northwest   3866.85520\n"
     ]
    }
   ],
   "source": [
    "try:\n",
    "    df = pd.read_csv('insurance.csv')\n",
    "    print(\"Dataset loaded successfully!\")\n",
    "    print(f\"Shape: {df.shape}\")\n",
    "    print(\"\\nFirst 5 rows:\")\n",
    "    print(df.head())\n",
    "except FileNotFoundError:\n",
    "    print(\"Error: insurance.csv not found!\")\n",
    "    print(\"Please download the dataset from Kaggle and save it in the same folder as this notebook\")"
   ]
  },
  {
   "cell_type": "code",
   "execution_count": 5,
   "id": "e93a5a06-eaf2-47b4-b9b6-06e191026bff",
   "metadata": {},
   "outputs": [
    {
     "name": "stdout",
     "output_type": "stream",
     "text": [
      "=== DATASET OVERVIEW ===\n",
      "Total records: 1,338\n",
      "Columns: ['age', 'sex', 'bmi', 'children', 'smoker', 'region', 'charges']\n",
      "\n",
      "=== MISSING VALUES CHECK ===\n",
      "age         0\n",
      "sex         0\n",
      "bmi         0\n",
      "children    0\n",
      "smoker      0\n",
      "region      0\n",
      "charges     0\n",
      "dtype: int64\n",
      "\n",
      "=== DATA TYPES ===\n",
      "age           int64\n",
      "sex          object\n",
      "bmi         float64\n",
      "children      int64\n",
      "smoker       object\n",
      "region       object\n",
      "charges     float64\n",
      "dtype: object\n",
      "\n",
      "=== STATISTICAL SUMMARY ===\n",
      "               age          bmi     children       charges\n",
      "count  1338.000000  1338.000000  1338.000000   1338.000000\n",
      "mean     39.207025    30.663397     1.094918  13270.422265\n",
      "std      14.049960     6.098187     1.205493  12110.011237\n",
      "min      18.000000    15.960000     0.000000   1121.873900\n",
      "25%      27.000000    26.296250     0.000000   4740.287150\n",
      "50%      39.000000    30.400000     1.000000   9382.033000\n",
      "75%      51.000000    34.693750     2.000000  16639.912515\n",
      "max      64.000000    53.130000     5.000000  63770.428010\n"
     ]
    }
   ],
   "source": [
    "print(\"=== DATASET OVERVIEW ===\")\n",
    "print(f\"Total records: {len(df):,}\")\n",
    "print(f\"Columns: {list(df.columns)}\")\n",
    "\n",
    "print(\"\\n=== MISSING VALUES CHECK ===\")\n",
    "print(df.isnull().sum())\n",
    "\n",
    "print(\"\\n=== DATA TYPES ===\")\n",
    "print(df.dtypes)\n",
    "\n",
    "print(\"\\n=== STATISTICAL SUMMARY ===\")\n",
    "print(df.describe())"
   ]
  },
  {
   "cell_type": "code",
   "execution_count": 6,
   "id": "5f307788-0014-4c6c-92b6-dc12adcd86db",
   "metadata": {},
   "outputs": [
    {
     "name": "stdout",
     "output_type": "stream",
     "text": [
      "=== CATEGORICAL VARIABLES ===\n",
      "Sex Distribution:\n",
      "sex\n",
      "male      676\n",
      "female    662\n",
      "Name: count, dtype: int64\n",
      "\n",
      "Smoking Status:\n",
      "smoker\n",
      "no     1064\n",
      "yes     274\n",
      "Name: count, dtype: int64\n",
      "\n",
      "Region Distribution:\n",
      "region\n",
      "southeast    364\n",
      "southwest    325\n",
      "northwest    325\n",
      "northeast    324\n",
      "Name: count, dtype: int64\n"
     ]
    }
   ],
   "source": [
    "print(\"=== CATEGORICAL VARIABLES ===\")\n",
    "\n",
    "print(\"Sex Distribution:\")\n",
    "print(df['sex'].value_counts())\n",
    "\n",
    "print(\"\\nSmoking Status:\")\n",
    "print(df['smoker'].value_counts())\n",
    "\n",
    "print(\"\\nRegion Distribution:\")\n",
    "print(df['region'].value_counts())"
   ]
  },
  {
   "cell_type": "code",
   "execution_count": 7,
   "id": "d8c9dc8a-f07e-4e17-a757-9308a87bbb3f",
   "metadata": {},
   "outputs": [
    {
     "name": "stdout",
     "output_type": "stream",
     "text": [
      "=== SMOKING IMPACT ON MEDICAL COSTS ===\n",
      "        patient_count  avg_cost  median_cost\n",
      "smoker                                      \n",
      "no               1064   8434.27      7345.41\n",
      "yes               274  32050.23     34456.35\n",
      "\n",
      "💡 KEY FINDING:\n",
      "Smokers pay $23,615.96 more on average\n",
      "That's a 280.0% increase in medical costs!\n"
     ]
    }
   ],
   "source": [
    "# Question 1: What's the impact of smoking on medical costs?\n",
    "print(\"=== SMOKING IMPACT ON MEDICAL COSTS ===\")\n",
    "\n",
    "smoking_analysis = df.groupby('smoker')['charges'].agg(['count', 'mean', 'median'])\n",
    "smoking_analysis.columns = ['patient_count', 'avg_cost', 'median_cost']\n",
    "smoking_analysis = smoking_analysis.round(2)\n",
    "\n",
    "print(smoking_analysis)\n",
    "\n",
    "# Calculate the difference\n",
    "smoker_avg = df[df['smoker'] == 'yes']['charges'].mean()\n",
    "nonsmoker_avg = df[df['smoker'] == 'no']['charges'].mean()\n",
    "cost_difference = smoker_avg - nonsmoker_avg\n",
    "percent_increase = (cost_difference / nonsmoker_avg) * 100\n",
    "\n",
    "print(f\"\\n💡 KEY FINDING:\")\n",
    "print(f\"Smokers pay ${cost_difference:,.2f} more on average\")\n",
    "print(f\"That's a {percent_increase:.1f}% increase in medical costs!\")"
   ]
  },
  {
   "cell_type": "code",
   "execution_count": 10,
   "id": "a052204e-4d91-42bc-9af7-5e80987315b1",
   "metadata": {},
   "outputs": [
    {
     "data": {
      "image/png": "[encoded data removed]",
      "text/plain": [
       "<Figure size 1000x600 with 1 Axes>"
      ]
     },
     "metadata": {},
     "output_type": "display_data"
    },
    {
     "name": "stdout",
     "output_type": "stream",
     "text": [
      "💡 Business Impact: Smoking increases insurance costs by nearly 300%!\n"
     ]
    }
   ],
   "source": [
    "import matplotlib.pyplot as plt\n",
    "\n",
    "plt.figure(figsize=(10, 6))\n",
    "\n",
    "# Create bar chart\n",
    "smoking_costs = [nonsmoker_avg, smoker_avg]\n",
    "labels = ['Non-Smoker', 'Smoker']\n",
    "colors = ['lightblue', 'coral']\n",
    "\n",
    "bars = plt.bar(labels, smoking_costs, color=colors)\n",
    "plt.title('Average Medical Insurance Costs by Smoking Status', fontsize=14, fontweight='bold')\n",
    "plt.ylabel('Average Cost ($)')\n",
    "plt.xlabel('Smoking Status')\n",
    "\n",
    "# Add value labels on bars\n",
    "for bar in bars:\n",
    "    height = bar.get_height()\n",
    "    plt.text(bar.get_x() + bar.get_width()/2., height + 500,\n",
    "             f'${height:,.0f}', ha='center', va='bottom', fontweight='bold')\n",
    "\n",
    "plt.tight_layout()\n",
    "plt.show()\n",
    "\n",
    "print(f\"💡 Business Impact: Smoking increases insurance costs by nearly 300%!\")"
   ]
  },
  {
   "cell_type": "code",
   "execution_count": 9,
   "id": "dd4d8546-a61d-411d-ad32-cda438c77147",
   "metadata": {},
   "outputs": [
    {
     "name": "stdout",
     "output_type": "stream",
     "text": [
      "=== REGIONAL COST ANALYSIS ===\n",
      "           patient_count  avg_cost\n",
      "region                            \n",
      "southeast            364  14735.41\n",
      "northeast            324  13406.38\n",
      "northwest            325  12417.58\n",
      "southwest            325  12346.94\n",
      "\n",
      "💡 Regional Finding:\n",
      "Highest cost region: southeast ($14,735.41)\n",
      "Lowest cost region: southwest ($12,346.94)\n",
      "Regional difference: $2,388.47\n"
     ]
    }
   ],
   "source": [
    "# Question 2: Regional cost differences\n",
    "print(\"=== REGIONAL COST ANALYSIS ===\")\n",
    "\n",
    "regional_analysis = df.groupby('region')['charges'].agg(['count', 'mean'])\n",
    "regional_analysis.columns = ['patient_count', 'avg_cost']\n",
    "regional_analysis = regional_analysis.sort_values('avg_cost', ascending=False).round(2)\n",
    "\n",
    "print(regional_analysis)\n",
    "\n",
    "highest_region = regional_analysis.index[0]\n",
    "lowest_region = regional_analysis.index[-1]\n",
    "regional_difference = regional_analysis.loc[highest_region, 'avg_cost'] - regional_analysis.loc[lowest_region, 'avg_cost']\n",
    "\n",
    "print(f\"\\n💡 Regional Finding:\")\n",
    "print(f\"Highest cost region: {highest_region} (${regional_analysis.loc[highest_region, 'avg_cost']:,.2f})\")\n",
    "print(f\"Lowest cost region: {lowest_region} (${regional_analysis.loc[lowest_region, 'avg_cost']:,.2f})\")\n",
    "print(f\"Regional difference: ${regional_difference:,.2f}\")"
   ]
  },
  {
   "cell_type": "code",
   "execution_count": 11,
   "id": "f76170c2-afee-4c8f-84ce-9a958e9618e7",
   "metadata": {},
   "outputs": [
    {
     "name": "stdout",
     "output_type": "stream",
     "text": [
      "=== BMI IMPACT ON MEDICAL COSTS ===\n",
      "              patient_count  avg_cost\n",
      "bmi_category                         \n",
      "Normal                  225  10409.34\n",
      "Obese                   707  15552.34\n",
      "Overweight              386  10987.51\n",
      "Underweight              20   8852.20\n",
      "\n",
      "💡 BMI Finding:\n",
      "Normal weight: $10,409.34\n",
      "Obese: $15,552.34\n",
      "Obesity premium: $5,143.00\n"
     ]
    }
   ],
   "source": [
    "# Question 3: BMI impact on costs\n",
    "print(\"=== BMI IMPACT ON MEDICAL COSTS ===\")\n",
    "\n",
    "def categorize_bmi(bmi):\n",
    "    if bmi < 18.5:\n",
    "        return 'Underweight'\n",
    "    elif bmi < 25:\n",
    "        return 'Normal'\n",
    "    elif bmi < 30:\n",
    "        return 'Overweight'\n",
    "    else:\n",
    "        return 'Obese'\n",
    "\n",
    "df['bmi_category'] = df['bmi'].apply(categorize_bmi)\n",
    "\n",
    "bmi_analysis = df.groupby('bmi_category')['charges'].agg(['count', 'mean'])\n",
    "bmi_analysis.columns = ['patient_count', 'avg_cost']\n",
    "bmi_analysis = bmi_analysis.round(2)\n",
    "\n",
    "print(bmi_analysis)\n",
    "\n",
    "# Compare normal vs obese\n",
    "normal_cost = bmi_analysis.loc['Normal', 'avg_cost']\n",
    "obese_cost = bmi_analysis.loc['Obese', 'avg_cost']\n",
    "bmi_difference = obese_cost - normal_cost\n",
    "\n",
    "print(f\"\\n💡 BMI Finding:\")\n",
    "print(f\"Normal weight: ${normal_cost:,.2f}\")\n",
    "print(f\"Obese: ${obese_cost:,.2f}\")\n",
    "print(f\"Obesity premium: ${bmi_difference:,.2f}\")"
   ]
  },
  {
   "cell_type": "code",
   "execution_count": 12,
   "id": "0852afba-897e-42ff-885a-e2d74a7d5776",
   "metadata": {},
   "outputs": [
    {
     "name": "stdout",
     "output_type": "stream",
     "text": [
      "============================================================\n",
      "EXECUTIVE SUMMARY - MEDICAL INSURANCE COST DRIVERS\n",
      "============================================================\n",
      "Dataset: 1,338 patients analyzed\n",
      "Overall average cost: $13,270.42\n",
      "\n",
      "TOP COST DRIVERS (in order of impact):\n",
      "1. 🚭 SMOKING\n",
      "   • Cost increase: $23,615.96 (280.0%)\n",
      "   • Affects 274 patients (20.5% of population)\n",
      "\n",
      "2. ⚖️ OBESITY\n",
      "   • Cost increase: $5,143.00\n",
      "   • Affects 707 patients (52.8% of population)\n",
      "\n",
      "3. 🏠 REGIONAL VARIATION\n",
      "   • Cost range: $2,388.47\n",
      "   • Highest: Southeast ($14,735.41)\n",
      "   • Lowest: Southwest ($12,346.94)\n",
      "\n",
      "============================================================\n",
      "BUSINESS RECOMMENDATIONS\n",
      "============================================================\n",
      "1. IMMEDIATE PRIORITY: Smoking Cessation Programs\n",
      "   • ROI potential: $23,615.96 per successful quitter\n",
      "   • Target high-cost smoking customers first\n",
      "\n",
      "2. WELLNESS INITIATIVES: Weight Management\n",
      "   • ROI potential: $5,143.00 per patient moving to normal BMI\n",
      "   • Focus on obese customers with prevention programs\n",
      "\n",
      "3. REGIONAL STRATEGY: Cost Investigation\n",
      "   • Investigate Southeast region cost drivers\n",
      "   • Replicate Southwest cost management practices\n",
      "\n",
      "4. COMBINED RISK: High-Priority Customers\n",
      "   • 145 customers are both obese AND smokers\n",
      "   • These represent highest intervention priority\n",
      "\n",
      "============================================================\n",
      "ANALYSIS COMPLETE - Ready for Business Presentation!\n",
      "============================================================\n"
     ]
    }
   ],
   "source": [
    "print(\"=\"*60)\n",
    "print(\"EXECUTIVE SUMMARY - MEDICAL INSURANCE COST DRIVERS\")\n",
    "print(\"=\"*60)\n",
    "\n",
    "print(f\"Dataset: {len(df):,} patients analyzed\")\n",
    "print(f\"Overall average cost: ${df['charges'].mean():,.2f}\")\n",
    "\n",
    "print(\"\\nTOP COST DRIVERS (in order of impact):\")\n",
    "print(\"1. 🚭 SMOKING\")\n",
    "print(f\"   • Cost increase: ${cost_difference:,.2f} ({percent_increase:.1f}%)\")\n",
    "print(f\"   • Affects {len(df[df['smoker']=='yes'])} patients ({len(df[df['smoker']=='yes'])/len(df)*100:.1f}% of population)\")\n",
    "\n",
    "print(\"\\n2. ⚖️ OBESITY\") \n",
    "print(f\"   • Cost increase: ${bmi_difference:,.2f}\")\n",
    "print(f\"   • Affects {len(df[df['bmi_category']=='Obese'])} patients ({len(df[df['bmi_category']=='Obese'])/len(df)*100:.1f}% of population)\")\n",
    "\n",
    "print(\"\\n3. 🏠 REGIONAL VARIATION\")\n",
    "print(f\"   • Cost range: ${regional_difference:,.2f}\")\n",
    "print(f\"   • Highest: Southeast (${regional_analysis.loc['southeast', 'avg_cost']:,.2f})\")\n",
    "print(f\"   • Lowest: Southwest (${regional_analysis.loc['southwest', 'avg_cost']:,.2f})\")\n",
    "\n",
    "print(\"\\n\" + \"=\"*60)\n",
    "print(\"BUSINESS RECOMMENDATIONS\")\n",
    "print(\"=\"*60)\n",
    "\n",
    "print(\"1. IMMEDIATE PRIORITY: Smoking Cessation Programs\")\n",
    "print(f\"   • ROI potential: ${cost_difference:,.2f} per successful quitter\")\n",
    "print(\"   • Target high-cost smoking customers first\")\n",
    "\n",
    "print(\"\\n2. WELLNESS INITIATIVES: Weight Management\")\n",
    "print(f\"   • ROI potential: ${bmi_difference:,.2f} per patient moving to normal BMI\")\n",
    "print(\"   • Focus on obese customers with prevention programs\")\n",
    "\n",
    "print(\"\\n3. REGIONAL STRATEGY: Cost Investigation\")\n",
    "print(\"   • Investigate Southeast region cost drivers\")\n",
    "print(\"   • Replicate Southwest cost management practices\")\n",
    "\n",
    "print(f\"\\n4. COMBINED RISK: High-Priority Customers\")\n",
    "obese_smokers = len(df[(df['smoker']=='yes') & (df['bmi_category']=='Obese')])\n",
    "print(f\"   • {obese_smokers} customers are both obese AND smokers\")\n",
    "print(\"   • These represent highest intervention priority\")\n",
    "\n",
    "print(\"\\n\" + \"=\"*60)\n",
    "print(\"ANALYSIS COMPLETE - Ready for Business Presentation!\")\n",
    "print(\"=\"*60)"
   ]
  }
 ],
 "metadata": {
  "kernelspec": {
   "display_name": "Python [conda env:base] *",
   "language": "python",
   "name": "conda-base-py"
  },
  "language_info": {
   "codemirror_mode": {
    "name": "ipython",
    "version": 3
   },
   "file_extension": ".py",
   "mimetype": "text/x-python",
   "name": "python",
   "nbconvert_exporter": "python",
   "pygments_lexer": "ipython3",
   "version": "3.13.5"
  }
 },
 "nbformat": 4,
 "nbformat_minor": 5
}
